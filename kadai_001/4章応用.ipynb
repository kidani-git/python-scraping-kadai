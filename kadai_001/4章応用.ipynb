{
  "nbformat": 4,
  "nbformat_minor": 0,
  "metadata": {
    "colab": {
      "provenance": []
    },
    "kernelspec": {
      "name": "python3",
      "display_name": "Python 3"
    },
    "language_info": {
      "name": "python"
    }
  },
  "cells": [
    {
      "cell_type": "code",
      "execution_count": 1,
      "metadata": {
        "colab": {
          "base_uri": "https://localhost:8080/"
        },
        "id": "OyHy-Yw8sXNf",
        "outputId": "56ec3cdd-7a3b-4db8-f38b-f8222b4bc5da"
      },
      "outputs": [
        {
          "output_type": "stream",
          "name": "stdout",
          "text": [
            "Requirement already satisfied: requests in /usr/local/lib/python3.10/dist-packages (2.32.3)\n",
            "Requirement already satisfied: beautifulsoup4 in /usr/local/lib/python3.10/dist-packages (4.12.3)\n",
            "Requirement already satisfied: charset-normalizer<4,>=2 in /usr/local/lib/python3.10/dist-packages (from requests) (3.4.0)\n",
            "Requirement already satisfied: idna<4,>=2.5 in /usr/local/lib/python3.10/dist-packages (from requests) (3.10)\n",
            "Requirement already satisfied: urllib3<3,>=1.21.1 in /usr/local/lib/python3.10/dist-packages (from requests) (2.2.3)\n",
            "Requirement already satisfied: certifi>=2017.4.17 in /usr/local/lib/python3.10/dist-packages (from requests) (2024.8.30)\n",
            "Requirement already satisfied: soupsieve>1.2 in /usr/local/lib/python3.10/dist-packages (from beautifulsoup4) (2.6)\n"
          ]
        }
      ],
      "source": [
        "!pip install requests beautifulsoup4"
      ]
    },
    {
      "cell_type": "code",
      "source": [
        "import requests\n",
        "from bs4 import BeautifulSoup\n",
        "url = 'https://news.yahoo.co.jp/articles/7e0ab776ed5feb889094c0bd9ffed34a53361801'\n",
        "response = requests.get(url)\n",
        "soup = BeautifulSoup(response.text, 'html.parser')\n",
        "title_element = soup.select_one('#uamods > header > h1')\n",
        "title_text = title_element.text\n",
        "print(title_text)"
      ],
      "metadata": {
        "colab": {
          "base_uri": "https://localhost:8080/"
        },
        "id": "KHMZv_45umnJ",
        "outputId": "0bec2aab-7fd0-4765-f1ee-d5af928e6276"
      },
      "execution_count": 3,
      "outputs": [
        {
          "output_type": "stream",
          "name": "stdout",
          "text": [
            "ロシア、戦略核演習実施　「大規模」反撃想定　ＩＣＢＭ投入\n"
          ]
        }
      ]
    },
    {
      "cell_type": "code",
      "source": [
        "import requests\n",
        "from bs4 import BeautifulSoup\n",
        "url = 'https://news.yahoo.co.jp/articles/7e0ab776ed5feb889094c0bd9ffed34a53361801'\n",
        "response = requests.get(url)\n",
        "\n",
        "soup = BeautifulSoup(response.text,\"html.parser\")\n",
        "\n",
        "main_element = soup.select_one(\".article_body > div > p\")\n",
        "\n",
        "title_text = main_element.text\n",
        "\n",
        "print(title_text)"
      ],
      "metadata": {
        "colab": {
          "base_uri": "https://localhost:8080/"
        },
        "id": "pOE6pvh4wTTu",
        "outputId": "cef52947-59b3-409c-9110-4463963503f6"
      },
      "execution_count": 8,
      "outputs": [
        {
          "output_type": "stream",
          "name": "stdout",
          "text": [
            "［モスクワ　２９日　ロイター］ - ロシアのプーチン大統領は２９日、戦略核戦力の演習を開始したと発表した。敵の攻撃に対する「大規模核攻撃」を想定する演習で、陸海空による「核のトライアド（３本柱）」が対象。この日は大陸間弾道ミサイル（ＩＣＢＭ）「ヤルス」が北西部から極東に向けて発射された。 \n",
            "\n",
            "プーチン氏は「地政学的緊張の高まりと新たな外部の脅威やリスクの台頭を考慮すると、最新式かつ常時使用可能な戦略部隊を保有することが重要」と指摘。発射準備時間が短縮され、ミサイル防衛システムを突破できる新たな「固定式および移動可能なミサイルシステム」に移行しつつあると明らかにした。\n",
            "\n",
            "同時に、核兵器の使用は「極めて例外的な措置」だが、使用準備を整えておく必要があると強調。「ロシアは新たな軍拡競争に参加するつもりはないが、核戦力を十分に必要とされる水準に維持すると強調したい」と述べた。\n",
            "\n",
            "ベロウソフ国防相は、テレビ放映されたコメントで「敵の核攻撃に対し戦略攻撃戦力による大規模な核攻撃を行う訓練を行うことがこの演習の目的だ」と説明した。\n",
            "\n",
            "クレムリン（ロシア大統領府）のペスコフ報道官は、演習は定期的かつ計画されたものだとしている。  \n",
            "\n",
            "国防省によると、ＩＣＢＭ「ヤルス」がロシア北西部のプレセツク宇宙基地から極東のカムチャツカ半島に向けて発射された。このほか、潜水艦から弾道ミサイル、戦略爆撃機から巡航ミサイルが発射された。   \n",
            "\n",
            "ヤルスは米国の都市の攻撃が可能なミサイルで、今月１８日にモスクワの北西にあるトベリ州で実施された演習にもヤルスを装備した部隊の野外機動が含まれていた。 \n",
            "\n",
            "北大西洋条約機構（ＮＡＴＯ）のルッテ事務総長は２８日、ロシアに派兵された北朝鮮軍部隊がロシア・クルスク地域に配備されたと確認したと表明。ロシアは今回の戦略核演習をロシア・ウクライナ戦争の重大な局面で実施したことになる。 \n",
            "\n",
            "プーチン大統領はこれまでも、ロシアがウクライナで勝利するために核兵器の使用に頼る必要はないと表明している。ただ先月、核兵器の使用条件を示した核ドクトリンの改定を承認。これにより、ロシアは核保有国に支援された攻撃を共同攻撃と見なすようになっている。 \n",
            "\n",
            "ロシアは世界最大の核保有国。ロシアと米国で世界の核弾頭の８８％を保有している。\n"
          ]
        }
      ]
    }
  ]
}